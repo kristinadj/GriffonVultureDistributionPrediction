{
 "cells": [
  {
   "cell_type": "code",
   "execution_count": 1,
   "id": "52faa60b",
   "metadata": {},
   "outputs": [],
   "source": [
    "import pandas as pd"
   ]
  },
  {
   "cell_type": "code",
   "execution_count": 2,
   "id": "47682071",
   "metadata": {
    "scrolled": true
   },
   "outputs": [
    {
     "data": {
      "text/html": [
       "<div>\n",
       "<style scoped>\n",
       "    .dataframe tbody tr th:only-of-type {\n",
       "        vertical-align: middle;\n",
       "    }\n",
       "\n",
       "    .dataframe tbody tr th {\n",
       "        vertical-align: top;\n",
       "    }\n",
       "\n",
       "    .dataframe thead th {\n",
       "        text-align: right;\n",
       "    }\n",
       "</style>\n",
       "<table border=\"1\" class=\"dataframe\">\n",
       "  <thead>\n",
       "    <tr style=\"text-align: right;\">\n",
       "      <th></th>\n",
       "      <th>event-id</th>\n",
       "      <th>visible</th>\n",
       "      <th>timestamp</th>\n",
       "      <th>location-long</th>\n",
       "      <th>location-lat</th>\n",
       "      <th>bar:barometric-pressure</th>\n",
       "      <th>data-decoding-software</th>\n",
       "      <th>eobs:activity</th>\n",
       "      <th>eobs:activity-samples</th>\n",
       "      <th>eobs:battery-voltage</th>\n",
       "      <th>...</th>\n",
       "      <th>sensor-type</th>\n",
       "      <th>individual-taxon-canonical-name</th>\n",
       "      <th>tag-local-identifier</th>\n",
       "      <th>individual-local-identifier</th>\n",
       "      <th>study-name</th>\n",
       "      <th>utm-easting</th>\n",
       "      <th>utm-northing</th>\n",
       "      <th>utm-zone</th>\n",
       "      <th>study-timezone</th>\n",
       "      <th>study-local-timestamp</th>\n",
       "    </tr>\n",
       "  </thead>\n",
       "  <tbody>\n",
       "    <tr>\n",
       "      <th>0</th>\n",
       "      <td>557090296</td>\n",
       "      <td>True</td>\n",
       "      <td>2015-02-18 02:30:24.000</td>\n",
       "      <td>90.200748</td>\n",
       "      <td>27.541146</td>\n",
       "      <td>NaN</td>\n",
       "      <td>NaN</td>\n",
       "      <td>NaN</td>\n",
       "      <td>NaN</td>\n",
       "      <td>3974</td>\n",
       "      <td>...</td>\n",
       "      <td>gps</td>\n",
       "      <td>Gyps himalayensis</td>\n",
       "      <td>4185</td>\n",
       "      <td>Thang Kaar Baen (4185)</td>\n",
       "      <td>e-Obs GPRS Himalayan Griffon - Bhutan-MPIAB</td>\n",
       "      <td>223550.028971</td>\n",
       "      <td>3.049499e+06</td>\n",
       "      <td>46N</td>\n",
       "      <td>Bhutan Time</td>\n",
       "      <td>2015-02-18 08:30:24.000</td>\n",
       "    </tr>\n",
       "    <tr>\n",
       "      <th>1</th>\n",
       "      <td>557090297</td>\n",
       "      <td>True</td>\n",
       "      <td>2015-02-18 02:35:14.000</td>\n",
       "      <td>90.200749</td>\n",
       "      <td>27.541147</td>\n",
       "      <td>NaN</td>\n",
       "      <td>NaN</td>\n",
       "      <td>NaN</td>\n",
       "      <td>NaN</td>\n",
       "      <td>3974</td>\n",
       "      <td>...</td>\n",
       "      <td>gps</td>\n",
       "      <td>Gyps himalayensis</td>\n",
       "      <td>4185</td>\n",
       "      <td>Thang Kaar Baen (4185)</td>\n",
       "      <td>e-Obs GPRS Himalayan Griffon - Bhutan-MPIAB</td>\n",
       "      <td>223550.110270</td>\n",
       "      <td>3.049499e+06</td>\n",
       "      <td>46N</td>\n",
       "      <td>Bhutan Time</td>\n",
       "      <td>2015-02-18 08:35:14.000</td>\n",
       "    </tr>\n",
       "    <tr>\n",
       "      <th>2</th>\n",
       "      <td>557090298</td>\n",
       "      <td>True</td>\n",
       "      <td>2015-02-18 02:40:14.000</td>\n",
       "      <td>90.200744</td>\n",
       "      <td>27.541125</td>\n",
       "      <td>NaN</td>\n",
       "      <td>NaN</td>\n",
       "      <td>NaN</td>\n",
       "      <td>NaN</td>\n",
       "      <td>3974</td>\n",
       "      <td>...</td>\n",
       "      <td>gps</td>\n",
       "      <td>Gyps himalayensis</td>\n",
       "      <td>4185</td>\n",
       "      <td>Thang Kaar Baen (4185)</td>\n",
       "      <td>e-Obs GPRS Himalayan Griffon - Bhutan-MPIAB</td>\n",
       "      <td>223549.559364</td>\n",
       "      <td>3.049496e+06</td>\n",
       "      <td>46N</td>\n",
       "      <td>Bhutan Time</td>\n",
       "      <td>2015-02-18 08:40:14.000</td>\n",
       "    </tr>\n",
       "    <tr>\n",
       "      <th>3</th>\n",
       "      <td>557090299</td>\n",
       "      <td>True</td>\n",
       "      <td>2015-02-18 02:45:14.000</td>\n",
       "      <td>90.200799</td>\n",
       "      <td>27.541139</td>\n",
       "      <td>NaN</td>\n",
       "      <td>NaN</td>\n",
       "      <td>NaN</td>\n",
       "      <td>NaN</td>\n",
       "      <td>3977</td>\n",
       "      <td>...</td>\n",
       "      <td>gps</td>\n",
       "      <td>Gyps himalayensis</td>\n",
       "      <td>4185</td>\n",
       "      <td>Thang Kaar Baen (4185)</td>\n",
       "      <td>e-Obs GPRS Himalayan Griffon - Bhutan-MPIAB</td>\n",
       "      <td>223555.100076</td>\n",
       "      <td>3.049498e+06</td>\n",
       "      <td>46N</td>\n",
       "      <td>Bhutan Time</td>\n",
       "      <td>2015-02-18 08:45:14.000</td>\n",
       "    </tr>\n",
       "    <tr>\n",
       "      <th>4</th>\n",
       "      <td>557090300</td>\n",
       "      <td>True</td>\n",
       "      <td>2015-02-18 02:50:31.000</td>\n",
       "      <td>90.200808</td>\n",
       "      <td>27.541124</td>\n",
       "      <td>NaN</td>\n",
       "      <td>NaN</td>\n",
       "      <td>NaN</td>\n",
       "      <td>NaN</td>\n",
       "      <td>3974</td>\n",
       "      <td>...</td>\n",
       "      <td>gps</td>\n",
       "      <td>Gyps himalayensis</td>\n",
       "      <td>4185</td>\n",
       "      <td>Thang Kaar Baen (4185)</td>\n",
       "      <td>e-Obs GPRS Himalayan Griffon - Bhutan-MPIAB</td>\n",
       "      <td>223555.939835</td>\n",
       "      <td>3.049496e+06</td>\n",
       "      <td>46N</td>\n",
       "      <td>Bhutan Time</td>\n",
       "      <td>2015-02-18 08:50:31.000</td>\n",
       "    </tr>\n",
       "  </tbody>\n",
       "</table>\n",
       "<p>5 rows × 42 columns</p>\n",
       "</div>"
      ],
      "text/plain": [
       "    event-id  visible                timestamp  location-long  location-lat  \\\n",
       "0  557090296     True  2015-02-18 02:30:24.000      90.200748     27.541146   \n",
       "1  557090297     True  2015-02-18 02:35:14.000      90.200749     27.541147   \n",
       "2  557090298     True  2015-02-18 02:40:14.000      90.200744     27.541125   \n",
       "3  557090299     True  2015-02-18 02:45:14.000      90.200799     27.541139   \n",
       "4  557090300     True  2015-02-18 02:50:31.000      90.200808     27.541124   \n",
       "\n",
       "   bar:barometric-pressure  data-decoding-software  eobs:activity  \\\n",
       "0                      NaN                     NaN            NaN   \n",
       "1                      NaN                     NaN            NaN   \n",
       "2                      NaN                     NaN            NaN   \n",
       "3                      NaN                     NaN            NaN   \n",
       "4                      NaN                     NaN            NaN   \n",
       "\n",
       "   eobs:activity-samples  eobs:battery-voltage  ...  sensor-type  \\\n",
       "0                    NaN                  3974  ...          gps   \n",
       "1                    NaN                  3974  ...          gps   \n",
       "2                    NaN                  3974  ...          gps   \n",
       "3                    NaN                  3977  ...          gps   \n",
       "4                    NaN                  3974  ...          gps   \n",
       "\n",
       "   individual-taxon-canonical-name  tag-local-identifier  \\\n",
       "0                Gyps himalayensis                  4185   \n",
       "1                Gyps himalayensis                  4185   \n",
       "2                Gyps himalayensis                  4185   \n",
       "3                Gyps himalayensis                  4185   \n",
       "4                Gyps himalayensis                  4185   \n",
       "\n",
       "   individual-local-identifier                                   study-name  \\\n",
       "0       Thang Kaar Baen (4185)  e-Obs GPRS Himalayan Griffon - Bhutan-MPIAB   \n",
       "1       Thang Kaar Baen (4185)  e-Obs GPRS Himalayan Griffon - Bhutan-MPIAB   \n",
       "2       Thang Kaar Baen (4185)  e-Obs GPRS Himalayan Griffon - Bhutan-MPIAB   \n",
       "3       Thang Kaar Baen (4185)  e-Obs GPRS Himalayan Griffon - Bhutan-MPIAB   \n",
       "4       Thang Kaar Baen (4185)  e-Obs GPRS Himalayan Griffon - Bhutan-MPIAB   \n",
       "\n",
       "     utm-easting  utm-northing  utm-zone  study-timezone  \\\n",
       "0  223550.028971  3.049499e+06       46N     Bhutan Time   \n",
       "1  223550.110270  3.049499e+06       46N     Bhutan Time   \n",
       "2  223549.559364  3.049496e+06       46N     Bhutan Time   \n",
       "3  223555.100076  3.049498e+06       46N     Bhutan Time   \n",
       "4  223555.939835  3.049496e+06       46N     Bhutan Time   \n",
       "\n",
       "     study-local-timestamp  \n",
       "0  2015-02-18 08:30:24.000  \n",
       "1  2015-02-18 08:35:14.000  \n",
       "2  2015-02-18 08:40:14.000  \n",
       "3  2015-02-18 08:45:14.000  \n",
       "4  2015-02-18 08:50:31.000  \n",
       "\n",
       "[5 rows x 42 columns]"
      ]
     },
     "execution_count": 2,
     "metadata": {},
     "output_type": "execute_result"
    }
   ],
   "source": [
    "df = pd.read_csv('../MovebankDatasets/e-ObsGPRSHimalayanGriffon-Bhutan-MPIAB/ThangKaarBaen(4185)-4185.csv', delimiter=',')\n",
    "df.head()"
   ]
  },
  {
   "cell_type": "code",
   "execution_count": 3,
   "id": "bc0cc217",
   "metadata": {},
   "outputs": [
    {
     "data": {
      "text/html": [
       "<div>\n",
       "<style scoped>\n",
       "    .dataframe tbody tr th:only-of-type {\n",
       "        vertical-align: middle;\n",
       "    }\n",
       "\n",
       "    .dataframe tbody tr th {\n",
       "        vertical-align: top;\n",
       "    }\n",
       "\n",
       "    .dataframe thead th {\n",
       "        text-align: right;\n",
       "    }\n",
       "</style>\n",
       "<table border=\"1\" class=\"dataframe\">\n",
       "  <thead>\n",
       "    <tr style=\"text-align: right;\">\n",
       "      <th></th>\n",
       "      <th>location-long</th>\n",
       "      <th>location-lat</th>\n",
       "    </tr>\n",
       "  </thead>\n",
       "  <tbody>\n",
       "    <tr>\n",
       "      <th>0</th>\n",
       "      <td>90.200748</td>\n",
       "      <td>27.541146</td>\n",
       "    </tr>\n",
       "    <tr>\n",
       "      <th>1</th>\n",
       "      <td>90.200749</td>\n",
       "      <td>27.541147</td>\n",
       "    </tr>\n",
       "    <tr>\n",
       "      <th>2</th>\n",
       "      <td>90.200744</td>\n",
       "      <td>27.541125</td>\n",
       "    </tr>\n",
       "    <tr>\n",
       "      <th>3</th>\n",
       "      <td>90.200799</td>\n",
       "      <td>27.541139</td>\n",
       "    </tr>\n",
       "    <tr>\n",
       "      <th>4</th>\n",
       "      <td>90.200808</td>\n",
       "      <td>27.541124</td>\n",
       "    </tr>\n",
       "  </tbody>\n",
       "</table>\n",
       "</div>"
      ],
      "text/plain": [
       "   location-long  location-lat\n",
       "0      90.200748     27.541146\n",
       "1      90.200749     27.541147\n",
       "2      90.200744     27.541125\n",
       "3      90.200799     27.541139\n",
       "4      90.200808     27.541124"
      ]
     },
     "execution_count": 3,
     "metadata": {},
     "output_type": "execute_result"
    }
   ],
   "source": [
    "df = df.drop(['event-id', 'visible', 'timestamp', 'bar:barometric-pressure','data-decoding-software','eobs:activity','eobs:activity-samples','eobs:battery-voltage','eobs:fix-battery-voltage','eobs:horizontal-accuracy-estimate','eobs:key-bin-checksum','eobs:speed-accuracy-estimate','eobs:start-timestamp','eobs:status','eobs:temperature','eobs:type-of-fix','eobs:used-time-to-get-fix','gps:dop','gps:satellite-count','ground-speed','heading','height-above-ellipsoid','import-marked-outlier','mag:magnetic-field-raw-x','mag:magnetic-field-raw-y','mag:magnetic-field-raw-z','orientation:quaternion-raw-w','orientation:quaternion-raw-x','orientation:quaternion-raw-y','orientation:quaternion-raw-z','sensor-type','individual-taxon-canonical-name','tag-local-identifier','individual-local-identifier','study-name','utm-easting','utm-northing','utm-zone','study-timezone','study-local-timestamp'], axis=1)\n",
    "df.head()"
   ]
  },
  {
   "cell_type": "code",
   "execution_count": 4,
   "id": "ca0f15ad",
   "metadata": {},
   "outputs": [
    {
     "data": {
      "text/html": [
       "<div>\n",
       "<style scoped>\n",
       "    .dataframe tbody tr th:only-of-type {\n",
       "        vertical-align: middle;\n",
       "    }\n",
       "\n",
       "    .dataframe tbody tr th {\n",
       "        vertical-align: top;\n",
       "    }\n",
       "\n",
       "    .dataframe thead th {\n",
       "        text-align: right;\n",
       "    }\n",
       "</style>\n",
       "<table border=\"1\" class=\"dataframe\">\n",
       "  <thead>\n",
       "    <tr style=\"text-align: right;\">\n",
       "      <th></th>\n",
       "      <th>longitude</th>\n",
       "      <th>latitude</th>\n",
       "    </tr>\n",
       "  </thead>\n",
       "  <tbody>\n",
       "    <tr>\n",
       "      <th>0</th>\n",
       "      <td>90.200748</td>\n",
       "      <td>27.541146</td>\n",
       "    </tr>\n",
       "    <tr>\n",
       "      <th>1</th>\n",
       "      <td>90.200749</td>\n",
       "      <td>27.541147</td>\n",
       "    </tr>\n",
       "    <tr>\n",
       "      <th>2</th>\n",
       "      <td>90.200744</td>\n",
       "      <td>27.541125</td>\n",
       "    </tr>\n",
       "    <tr>\n",
       "      <th>3</th>\n",
       "      <td>90.200799</td>\n",
       "      <td>27.541139</td>\n",
       "    </tr>\n",
       "    <tr>\n",
       "      <th>4</th>\n",
       "      <td>90.200808</td>\n",
       "      <td>27.541124</td>\n",
       "    </tr>\n",
       "  </tbody>\n",
       "</table>\n",
       "</div>"
      ],
      "text/plain": [
       "   longitude   latitude\n",
       "0  90.200748  27.541146\n",
       "1  90.200749  27.541147\n",
       "2  90.200744  27.541125\n",
       "3  90.200799  27.541139\n",
       "4  90.200808  27.541124"
      ]
     },
     "execution_count": 4,
     "metadata": {},
     "output_type": "execute_result"
    }
   ],
   "source": [
    "df.rename(columns={'location-long':'longitude'}, inplace = True)\n",
    "df.rename(columns={'location-lat':'latitude'}, inplace = True)\n",
    "df.head()"
   ]
  },
  {
   "cell_type": "code",
   "execution_count": 5,
   "id": "04b72b94",
   "metadata": {},
   "outputs": [
    {
     "data": {
      "text/html": [
       "<div>\n",
       "<style scoped>\n",
       "    .dataframe tbody tr th:only-of-type {\n",
       "        vertical-align: middle;\n",
       "    }\n",
       "\n",
       "    .dataframe tbody tr th {\n",
       "        vertical-align: top;\n",
       "    }\n",
       "\n",
       "    .dataframe thead th {\n",
       "        text-align: right;\n",
       "    }\n",
       "</style>\n",
       "<table border=\"1\" class=\"dataframe\">\n",
       "  <thead>\n",
       "    <tr style=\"text-align: right;\">\n",
       "      <th></th>\n",
       "      <th>species</th>\n",
       "      <th>longitude</th>\n",
       "      <th>latitude</th>\n",
       "    </tr>\n",
       "  </thead>\n",
       "  <tbody>\n",
       "    <tr>\n",
       "      <th>0</th>\n",
       "      <td>griffon_vulture</td>\n",
       "      <td>90.200748</td>\n",
       "      <td>27.541146</td>\n",
       "    </tr>\n",
       "    <tr>\n",
       "      <th>1</th>\n",
       "      <td>griffon_vulture</td>\n",
       "      <td>90.200749</td>\n",
       "      <td>27.541147</td>\n",
       "    </tr>\n",
       "    <tr>\n",
       "      <th>2</th>\n",
       "      <td>griffon_vulture</td>\n",
       "      <td>90.200744</td>\n",
       "      <td>27.541125</td>\n",
       "    </tr>\n",
       "    <tr>\n",
       "      <th>3</th>\n",
       "      <td>griffon_vulture</td>\n",
       "      <td>90.200799</td>\n",
       "      <td>27.541139</td>\n",
       "    </tr>\n",
       "    <tr>\n",
       "      <th>4</th>\n",
       "      <td>griffon_vulture</td>\n",
       "      <td>90.200808</td>\n",
       "      <td>27.541124</td>\n",
       "    </tr>\n",
       "  </tbody>\n",
       "</table>\n",
       "</div>"
      ],
      "text/plain": [
       "           species  longitude   latitude\n",
       "0  griffon_vulture  90.200748  27.541146\n",
       "1  griffon_vulture  90.200749  27.541147\n",
       "2  griffon_vulture  90.200744  27.541125\n",
       "3  griffon_vulture  90.200799  27.541139\n",
       "4  griffon_vulture  90.200808  27.541124"
      ]
     },
     "execution_count": 5,
     "metadata": {},
     "output_type": "execute_result"
    }
   ],
   "source": [
    "df.insert(0, 'species', 'griffon_vulture', True)\n",
    "df.head()"
   ]
  },
  {
   "cell_type": "markdown",
   "id": "51781c11",
   "metadata": {},
   "source": [
    "### Removing duplicates"
   ]
  },
  {
   "cell_type": "code",
   "execution_count": 6,
   "id": "40995cf4",
   "metadata": {},
   "outputs": [
    {
     "data": {
      "text/plain": [
       "3573"
      ]
     },
     "execution_count": 6,
     "metadata": {},
     "output_type": "execute_result"
    }
   ],
   "source": [
    "data_groups = df.groupby(df.columns.tolist())\n",
    "size = data_groups.size().reset_index()\n",
    "len(size[size[0] > 1])   # NUMBER OF DUPLICATES"
   ]
  },
  {
   "cell_type": "code",
   "execution_count": 7,
   "id": "78b692ba",
   "metadata": {},
   "outputs": [
    {
     "name": "stdout",
     "output_type": "stream",
     "text": [
      "550110\n"
     ]
    }
   ],
   "source": [
    "print(len(df.index))"
   ]
  },
  {
   "cell_type": "code",
   "execution_count": 8,
   "id": "7c46033b",
   "metadata": {},
   "outputs": [],
   "source": [
    "df = df.drop_duplicates()"
   ]
  },
  {
   "cell_type": "code",
   "execution_count": 9,
   "id": "94ae6acd",
   "metadata": {},
   "outputs": [
    {
     "name": "stdout",
     "output_type": "stream",
     "text": [
      "544727\n"
     ]
    }
   ],
   "source": [
    "print(len(df.index))"
   ]
  },
  {
   "cell_type": "markdown",
   "id": "569ddb72",
   "metadata": {},
   "source": [
    "### NaN values"
   ]
  },
  {
   "cell_type": "code",
   "execution_count": 10,
   "id": "35f77fbf",
   "metadata": {},
   "outputs": [],
   "source": [
    "df = df.dropna()"
   ]
  },
  {
   "cell_type": "code",
   "execution_count": 11,
   "id": "fcd57d27",
   "metadata": {},
   "outputs": [
    {
     "name": "stdout",
     "output_type": "stream",
     "text": [
      "544726\n"
     ]
    }
   ],
   "source": [
    "print(len(df.index))"
   ]
  },
  {
   "cell_type": "code",
   "execution_count": null,
   "id": "7fd249c7",
   "metadata": {},
   "outputs": [],
   "source": []
  }
 ],
 "metadata": {
  "kernelspec": {
   "display_name": "Python 3 (ipykernel)",
   "language": "python",
   "name": "python3"
  },
  "language_info": {
   "codemirror_mode": {
    "name": "ipython",
    "version": 3
   },
   "file_extension": ".py",
   "mimetype": "text/x-python",
   "name": "python",
   "nbconvert_exporter": "python",
   "pygments_lexer": "ipython3",
   "version": "3.9.7"
  }
 },
 "nbformat": 4,
 "nbformat_minor": 5
}
