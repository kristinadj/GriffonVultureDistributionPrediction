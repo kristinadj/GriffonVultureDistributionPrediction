{
 "cells": [
  {
   "cell_type": "code",
   "execution_count": 46,
   "id": "52faa60b",
   "metadata": {},
   "outputs": [],
   "source": [
    "import pandas as pd"
   ]
  },
  {
   "cell_type": "code",
   "execution_count": 47,
   "id": "47682071",
   "metadata": {
    "scrolled": true
   },
   "outputs": [],
   "source": [
    "df = pd.read_csv('../MovebankDatasets/e-ObsGPRSHimalayanGriffon-Bhutan-MPIAB/ThangKaarBaen(4185)-4185.csv', delimiter=',')\n",
    "# df.head()"
   ]
  },
  {
   "cell_type": "code",
   "execution_count": 48,
   "id": "bc0cc217",
   "metadata": {},
   "outputs": [],
   "source": [
    "df = df.drop(['event-id', 'visible', 'timestamp', 'bar:barometric-pressure','data-decoding-software','eobs:activity','eobs:activity-samples','eobs:battery-voltage','eobs:fix-battery-voltage','eobs:horizontal-accuracy-estimate','eobs:key-bin-checksum','eobs:speed-accuracy-estimate','eobs:start-timestamp','eobs:status','eobs:temperature','eobs:type-of-fix','eobs:used-time-to-get-fix','gps:dop','gps:satellite-count','ground-speed','heading','height-above-ellipsoid','import-marked-outlier','mag:magnetic-field-raw-x','mag:magnetic-field-raw-y','mag:magnetic-field-raw-z','orientation:quaternion-raw-w','orientation:quaternion-raw-x','orientation:quaternion-raw-y','orientation:quaternion-raw-z','sensor-type','individual-taxon-canonical-name','tag-local-identifier','individual-local-identifier','study-name','utm-easting','utm-northing','utm-zone','study-timezone','study-local-timestamp'], axis=1)\n",
    "#df.head()"
   ]
  },
  {
   "cell_type": "code",
   "execution_count": 49,
   "id": "ca0f15ad",
   "metadata": {},
   "outputs": [],
   "source": [
    "df.rename(columns={'location-long':'longitude'}, inplace = True)\n",
    "df.rename(columns={'location-lat':'latitude'}, inplace = True)\n",
    "df = df.sort_values(by =['longitude', 'latitude'])\n",
    "#df.head()"
   ]
  },
  {
   "cell_type": "code",
   "execution_count": 50,
   "id": "04b72b94",
   "metadata": {},
   "outputs": [
    {
     "data": {
      "text/html": [
       "<div>\n",
       "<style scoped>\n",
       "    .dataframe tbody tr th:only-of-type {\n",
       "        vertical-align: middle;\n",
       "    }\n",
       "\n",
       "    .dataframe tbody tr th {\n",
       "        vertical-align: top;\n",
       "    }\n",
       "\n",
       "    .dataframe thead th {\n",
       "        text-align: right;\n",
       "    }\n",
       "</style>\n",
       "<table border=\"1\" class=\"dataframe\">\n",
       "  <thead>\n",
       "    <tr style=\"text-align: right;\">\n",
       "      <th></th>\n",
       "      <th>species</th>\n",
       "      <th>longitude</th>\n",
       "      <th>latitude</th>\n",
       "    </tr>\n",
       "  </thead>\n",
       "  <tbody>\n",
       "    <tr>\n",
       "      <th>143879</th>\n",
       "      <td>griffon_vulture</td>\n",
       "      <td>88.282075</td>\n",
       "      <td>28.840740</td>\n",
       "    </tr>\n",
       "    <tr>\n",
       "      <th>143880</th>\n",
       "      <td>griffon_vulture</td>\n",
       "      <td>88.282093</td>\n",
       "      <td>28.840562</td>\n",
       "    </tr>\n",
       "    <tr>\n",
       "      <th>143878</th>\n",
       "      <td>griffon_vulture</td>\n",
       "      <td>88.282100</td>\n",
       "      <td>28.840924</td>\n",
       "    </tr>\n",
       "    <tr>\n",
       "      <th>143881</th>\n",
       "      <td>griffon_vulture</td>\n",
       "      <td>88.282143</td>\n",
       "      <td>28.840404</td>\n",
       "    </tr>\n",
       "    <tr>\n",
       "      <th>143877</th>\n",
       "      <td>griffon_vulture</td>\n",
       "      <td>88.282161</td>\n",
       "      <td>28.841108</td>\n",
       "    </tr>\n",
       "  </tbody>\n",
       "</table>\n",
       "</div>"
      ],
      "text/plain": [
       "                species  longitude   latitude\n",
       "143879  griffon_vulture  88.282075  28.840740\n",
       "143880  griffon_vulture  88.282093  28.840562\n",
       "143878  griffon_vulture  88.282100  28.840924\n",
       "143881  griffon_vulture  88.282143  28.840404\n",
       "143877  griffon_vulture  88.282161  28.841108"
      ]
     },
     "execution_count": 50,
     "metadata": {},
     "output_type": "execute_result"
    }
   ],
   "source": [
    "df.insert(0, 'species', 'griffon_vulture', True)\n",
    "df.head()"
   ]
  },
  {
   "cell_type": "markdown",
   "id": "51781c11",
   "metadata": {},
   "source": [
    "### Removing duplicates"
   ]
  },
  {
   "cell_type": "code",
   "execution_count": 51,
   "id": "40995cf4",
   "metadata": {},
   "outputs": [
    {
     "data": {
      "text/plain": [
       "3573"
      ]
     },
     "execution_count": 51,
     "metadata": {},
     "output_type": "execute_result"
    }
   ],
   "source": [
    "data_groups = df.groupby(df.columns.tolist())\n",
    "size = data_groups.size().reset_index()\n",
    "len(size[size[0] > 1])   # NUMBER OF DUPLICATES"
   ]
  },
  {
   "cell_type": "code",
   "execution_count": 52,
   "id": "78b692ba",
   "metadata": {},
   "outputs": [
    {
     "name": "stdout",
     "output_type": "stream",
     "text": [
      "550110\n"
     ]
    }
   ],
   "source": [
    "print(len(df.index))"
   ]
  },
  {
   "cell_type": "code",
   "execution_count": 53,
   "id": "7c46033b",
   "metadata": {},
   "outputs": [],
   "source": [
    "df = df.drop_duplicates()"
   ]
  },
  {
   "cell_type": "code",
   "execution_count": 54,
   "id": "94ae6acd",
   "metadata": {},
   "outputs": [
    {
     "name": "stdout",
     "output_type": "stream",
     "text": [
      "544727\n"
     ]
    }
   ],
   "source": [
    "print(len(df.index))"
   ]
  },
  {
   "cell_type": "markdown",
   "id": "569ddb72",
   "metadata": {},
   "source": [
    "### NaN values"
   ]
  },
  {
   "cell_type": "code",
   "execution_count": 55,
   "id": "35f77fbf",
   "metadata": {},
   "outputs": [],
   "source": [
    "df = df.dropna()"
   ]
  },
  {
   "cell_type": "code",
   "execution_count": 56,
   "id": "fcd57d27",
   "metadata": {},
   "outputs": [
    {
     "name": "stdout",
     "output_type": "stream",
     "text": [
      "544726\n"
     ]
    }
   ],
   "source": [
    "print(len(df.index))"
   ]
  },
  {
   "cell_type": "markdown",
   "id": "b751d3fd",
   "metadata": {},
   "source": [
    "### Outliers detection"
   ]
  },
  {
   "cell_type": "code",
   "execution_count": 57,
   "id": "84e567a1",
   "metadata": {},
   "outputs": [
    {
     "data": {
      "text/plain": [
       "\"\\nimport plotly.express as px\\n\\nfig = px.scatter(x=df['latitude'], y=df['longitude'])\\nfig.show()\\n\""
      ]
     },
     "execution_count": 57,
     "metadata": {},
     "output_type": "execute_result"
    }
   ],
   "source": [
    "'''\n",
    "import plotly.express as px\n",
    "\n",
    "fig = px.scatter(x=df['latitude'], y=df['longitude'])\n",
    "fig.show()\n",
    "'''"
   ]
  },
  {
   "cell_type": "markdown",
   "id": "9ba6df0d",
   "metadata": {},
   "source": [
    "### Remove geopoints on distance less than 50"
   ]
  },
  {
   "cell_type": "code",
   "execution_count": 72,
   "id": "a2c9a2fd",
   "metadata": {},
   "outputs": [],
   "source": [
    "import numpy as np\n",
    "from math import ceil\n",
    "from scipy.spatial import distance\n",
    "from haversine import haversine, Unit"
   ]
  },
  {
   "cell_type": "code",
   "execution_count": 75,
   "id": "b0bd5a92",
   "metadata": {},
   "outputs": [
    {
     "name": "stdout",
     "output_type": "stream",
     "text": [
      "543799\n",
      "2943\n",
      "3275\n",
      "3716\n",
      "4021\n",
      "4767\n",
      "542822\n"
     ]
    }
   ],
   "source": [
    "min_distance = 50\n",
    "\n",
    "print(len(df.index))\n",
    "\n",
    "count = 1000\n",
    "iteration_count = ceil(len(df.index) / count)\n",
    "idx_out = list()\n",
    "\n",
    "for i in range(iteration_count):\n",
    "    lower_bound = i * count\n",
    "    mini_df = df.iloc[lower_bound:lower_bound + count,1:3]\n",
    "    coords = mini_df.values\n",
    "\n",
    "    distance_matrix = distance.cdist(coords, coords, lambda u, v: haversine(u, v, Unit.METERS)) # haversine(lat, lon, Unit.Meters)\n",
    "    n_proxim = np.apply_along_axis(lambda x: np.count_nonzero(x < min_distance), 0, distance_matrix)\n",
    "    idx = np.argsort(n_proxim).tolist()\n",
    "\n",
    "    for i in idx:\n",
    "        for j in range(i+1):\n",
    "            if i not in idx_out:\n",
    "                if distance_matrix[i, j] < min_distance:\n",
    "                    if i != j:\n",
    "                        idx_out.append(j)\n",
    "\n",
    "pop_idx = sorted(np.unique(idx_out).tolist(), reverse=True)\n",
    "df = df.drop(df.index[pop_idx])\n",
    "\n",
    "print(len(df.index))"
   ]
  },
  {
   "cell_type": "code",
   "execution_count": null,
   "id": "47b41ea8",
   "metadata": {},
   "outputs": [],
   "source": []
  }
 ],
 "metadata": {
  "kernelspec": {
   "display_name": "Python 3 (ipykernel)",
   "language": "python",
   "name": "python3"
  },
  "language_info": {
   "codemirror_mode": {
    "name": "ipython",
    "version": 3
   },
   "file_extension": ".py",
   "mimetype": "text/x-python",
   "name": "python",
   "nbconvert_exporter": "python",
   "pygments_lexer": "ipython3",
   "version": "3.9.7"
  }
 },
 "nbformat": 4,
 "nbformat_minor": 5
}
