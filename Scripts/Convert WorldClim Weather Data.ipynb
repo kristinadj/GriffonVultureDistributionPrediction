{
 "cells": [
  {
   "cell_type": "code",
   "execution_count": 4,
   "id": "0c49c68d",
   "metadata": {},
   "outputs": [],
   "source": [
    "import pandas as pd\n",
    "from datetime import datetime\n",
    "\n",
    "def get_worldclim_file_names(movement_datatset_file_path, worldclim_file_name_prefix):\n",
    "    df = pd.read_csv(movement_datatset_file_path, delimiter=',', low_memory=False)\n",
    "    df['timestamp_datetime'] = pd.to_datetime(df['timestamp'])\n",
    "    \n",
    "    start_date = datetime(2010, 1, 1, 0, 0)\n",
    "    end_date = datetime(2018, 12, 31, 23, 59)\n",
    "    df = df.loc[(df['timestamp_datetime'] >= start_date) & (df['timestamp_datetime'] <= end_date)]\n",
    "    \n",
    "    dates = df['timestamp_datetime'].dt.date.to_list()\n",
    "    dates = list(set(dates)) # remove duplicate dates\n",
    "\n",
    "    result = []\n",
    "    for date in dates:\n",
    "        year_month = date.strftime(\"%Y-%m\")\n",
    "        worldclim_file_name = worldclim_file_name_prefix + year_month\n",
    "        result.append(worldclim_file_name)\n",
    "        \n",
    "    return result"
   ]
  },
  {
   "cell_type": "code",
   "execution_count": 13,
   "id": "c697af76",
   "metadata": {},
   "outputs": [],
   "source": [
    "import gdal\n",
    "\n",
    "def convert_tif_to_asc(source_folder, destination_folder, file_names):\n",
    "    for file in file_names:\n",
    "        source = '../WorldClimDatasets/' + source_folder + '/' + file + '.tif'\n",
    "        destination = destination_folder + '/' + file + '.asc'\n",
    "        \n",
    "        print(source + ' -> ' + destination)\n",
    "        \n",
    "        # convert .tif to .asc\n",
    "        ds_tif = gdal.Open(source)\n",
    "        ds_asc = gdal.Translate(destination, ds_tif)\n",
    "        \n",
    "        # replace nan values\n",
    "        with open(destination, 'r') as file:\n",
    "            data = file.read()\n",
    "            data = data.replace('nan', '-9999')\n",
    "        with open(source, 'w') as file:\n",
    "            file.write(data)"
   ]
  },
  {
   "cell_type": "code",
   "execution_count": 15,
   "id": "6e33a451",
   "metadata": {},
   "outputs": [
    {
     "name": "stdout",
     "output_type": "stream",
     "text": [
      "../WorldClimDatasets/wc2.1_2.5m_prec_2010-2018/wc2.1_2.5m_prec_2010-11.tif\n",
      "../FinalDatasets/Weather/wc2.1_2.5m_prec_2010-11.asc\n"
     ]
    },
    {
     "ename": "KeyboardInterrupt",
     "evalue": "",
     "output_type": "error",
     "traceback": [
      "\u001b[1;31m---------------------------------------------------------------------------\u001b[0m",
      "\u001b[1;31mKeyboardInterrupt\u001b[0m                         Traceback (most recent call last)",
      "\u001b[1;32m~\\AppData\\Local\\Temp/ipykernel_19944/2802844735.py\u001b[0m in \u001b[0;36m<module>\u001b[1;34m\u001b[0m\n\u001b[0;32m     36\u001b[0m \u001b[1;33m\u001b[0m\u001b[0m\n\u001b[0;32m     37\u001b[0m     \u001b[1;31m# convert files to .asc\u001b[0m\u001b[1;33m\u001b[0m\u001b[1;33m\u001b[0m\u001b[0m\n\u001b[1;32m---> 38\u001b[1;33m     \u001b[0mconvert_tif_to_asc\u001b[0m\u001b[1;33m(\u001b[0m\u001b[0mweather_dataset_info\u001b[0m\u001b[1;33m[\u001b[0m\u001b[1;36m0\u001b[0m\u001b[1;33m]\u001b[0m\u001b[1;33m,\u001b[0m \u001b[0mdestination_folder\u001b[0m\u001b[1;33m,\u001b[0m \u001b[0mfinal_worldclim_file_names\u001b[0m\u001b[1;33m)\u001b[0m\u001b[1;33m\u001b[0m\u001b[1;33m\u001b[0m\u001b[0m\n\u001b[0m",
      "\u001b[1;32m~\\AppData\\Local\\Temp/ipykernel_19944/3144461076.py\u001b[0m in \u001b[0;36mconvert_tif_to_asc\u001b[1;34m(source_folder, destination_folder, file_names)\u001b[0m\n\u001b[0;32m     15\u001b[0m         \u001b[1;31m# replace nan values\u001b[0m\u001b[1;33m\u001b[0m\u001b[1;33m\u001b[0m\u001b[0m\n\u001b[0;32m     16\u001b[0m         \u001b[1;32mwith\u001b[0m \u001b[0mopen\u001b[0m\u001b[1;33m(\u001b[0m\u001b[0mdestination\u001b[0m\u001b[1;33m,\u001b[0m \u001b[1;34m'r'\u001b[0m\u001b[1;33m)\u001b[0m \u001b[1;32mas\u001b[0m \u001b[0mfile\u001b[0m\u001b[1;33m:\u001b[0m\u001b[1;33m\u001b[0m\u001b[1;33m\u001b[0m\u001b[0m\n\u001b[1;32m---> 17\u001b[1;33m             \u001b[0mdata\u001b[0m \u001b[1;33m=\u001b[0m \u001b[0mfile\u001b[0m\u001b[1;33m.\u001b[0m\u001b[0mread\u001b[0m\u001b[1;33m(\u001b[0m\u001b[1;33m)\u001b[0m\u001b[1;33m\u001b[0m\u001b[1;33m\u001b[0m\u001b[0m\n\u001b[0m\u001b[0;32m     18\u001b[0m             \u001b[0mdata\u001b[0m \u001b[1;33m=\u001b[0m \u001b[0mdata\u001b[0m\u001b[1;33m.\u001b[0m\u001b[0mreplace\u001b[0m\u001b[1;33m(\u001b[0m\u001b[1;34m'nan'\u001b[0m\u001b[1;33m,\u001b[0m \u001b[1;34m'-9999'\u001b[0m\u001b[1;33m)\u001b[0m\u001b[1;33m\u001b[0m\u001b[1;33m\u001b[0m\u001b[0m\n\u001b[0;32m     19\u001b[0m         \u001b[1;32mwith\u001b[0m \u001b[0mopen\u001b[0m\u001b[1;33m(\u001b[0m\u001b[0msource\u001b[0m\u001b[1;33m,\u001b[0m \u001b[1;34m'w'\u001b[0m\u001b[1;33m)\u001b[0m \u001b[1;32mas\u001b[0m \u001b[0mfile\u001b[0m\u001b[1;33m:\u001b[0m\u001b[1;33m\u001b[0m\u001b[1;33m\u001b[0m\u001b[0m\n",
      "\u001b[1;32m~\\miniconda3\\envs\\jupyter-env\\lib\\encodings\\cp1252.py\u001b[0m in \u001b[0;36mdecode\u001b[1;34m(self, input, final)\u001b[0m\n\u001b[0;32m     21\u001b[0m \u001b[1;32mclass\u001b[0m \u001b[0mIncrementalDecoder\u001b[0m\u001b[1;33m(\u001b[0m\u001b[0mcodecs\u001b[0m\u001b[1;33m.\u001b[0m\u001b[0mIncrementalDecoder\u001b[0m\u001b[1;33m)\u001b[0m\u001b[1;33m:\u001b[0m\u001b[1;33m\u001b[0m\u001b[1;33m\u001b[0m\u001b[0m\n\u001b[0;32m     22\u001b[0m     \u001b[1;32mdef\u001b[0m \u001b[0mdecode\u001b[0m\u001b[1;33m(\u001b[0m\u001b[0mself\u001b[0m\u001b[1;33m,\u001b[0m \u001b[0minput\u001b[0m\u001b[1;33m,\u001b[0m \u001b[0mfinal\u001b[0m\u001b[1;33m=\u001b[0m\u001b[1;32mFalse\u001b[0m\u001b[1;33m)\u001b[0m\u001b[1;33m:\u001b[0m\u001b[1;33m\u001b[0m\u001b[1;33m\u001b[0m\u001b[0m\n\u001b[1;32m---> 23\u001b[1;33m         \u001b[1;32mreturn\u001b[0m \u001b[0mcodecs\u001b[0m\u001b[1;33m.\u001b[0m\u001b[0mcharmap_decode\u001b[0m\u001b[1;33m(\u001b[0m\u001b[0minput\u001b[0m\u001b[1;33m,\u001b[0m\u001b[0mself\u001b[0m\u001b[1;33m.\u001b[0m\u001b[0merrors\u001b[0m\u001b[1;33m,\u001b[0m\u001b[0mdecoding_table\u001b[0m\u001b[1;33m)\u001b[0m\u001b[1;33m[\u001b[0m\u001b[1;36m0\u001b[0m\u001b[1;33m]\u001b[0m\u001b[1;33m\u001b[0m\u001b[1;33m\u001b[0m\u001b[0m\n\u001b[0m\u001b[0;32m     24\u001b[0m \u001b[1;33m\u001b[0m\u001b[0m\n\u001b[0;32m     25\u001b[0m \u001b[1;32mclass\u001b[0m \u001b[0mStreamWriter\u001b[0m\u001b[1;33m(\u001b[0m\u001b[0mCodec\u001b[0m\u001b[1;33m,\u001b[0m\u001b[0mcodecs\u001b[0m\u001b[1;33m.\u001b[0m\u001b[0mStreamWriter\u001b[0m\u001b[1;33m)\u001b[0m\u001b[1;33m:\u001b[0m\u001b[1;33m\u001b[0m\u001b[1;33m\u001b[0m\u001b[0m\n",
      "\u001b[1;31mKeyboardInterrupt\u001b[0m: "
     ]
    }
   ],
   "source": [
    "import os\n",
    "\n",
    "movement_datasets_info = [\n",
    "    '../MovebankDatasets/e-ObsGPRSHimalayanGriffon-Bhutan-MPIAB',\n",
    "    '../MovebankDatasets/EurasianGriffonVultures1HzHUJ(Israel)',\n",
    "    '../MovebankDatasets/Griffonvulture[fdlmes.gr]',\n",
    "    '../MovebankDatasets/GriffonVultureAlbstadtSalzburg(Gypsi)',\n",
    "    '../MovebankDatasets/High-altitudeflightsofHimalayanvultures(datafromSherubetal.2016)',\n",
    "    '../MovebankDatasets/LifeTrackGriffonVultureCroatia',\n",
    "    '../MovebankDatasets/Long-rangeadultmovementsof3vulturespecies(datafromSpiegeletal.2015)',\n",
    "    '../MovebankDatasets/RaptorsNABUMoessingenpublic',\n",
    "    '../MovebankDatasets/SoaringflightinEurasiangriffonvultures(HUJ)(datafromHarelandNathan,2018)'\n",
    "]\n",
    "\n",
    "weather_datasets_info = [\n",
    "    # folder name, file name prefix\n",
    "    ('wc2.1_2.5m_prec_2010-2018', 'wc2.1_2.5m_prec_'),\n",
    "    ('wc2.1_2.5m_tmax_2010-2018', 'wc2.1_2.5m_tmax_')\n",
    "]\n",
    "destination_folder = '../FinalDatasets/Weather'\n",
    "\n",
    "\n",
    "for weather_dataset_info in weather_datasets_info:    \n",
    "    final_worldclim_file_names = []\n",
    "\n",
    "    # filter files by dates from movement datasets\n",
    "    for movement_dataset_file_path in movement_datasets_info:\n",
    "        movement_dataset_files = os.listdir(movement_dataset_file_path)\n",
    "        for file in movement_dataset_files:       \n",
    "            worldclim_file_names = get_worldclim_file_names(movement_dataset_file_path + '/' + file, weather_dataset_info[1])\n",
    "            final_worldclim_file_names = final_worldclim_file_names + worldclim_file_names\n",
    "\n",
    "    # remove duplicate files\n",
    "    final_worldclim_file_names = list(set(final_worldclim_file_names))\n",
    "    final_worldclim_file_names.sort()\n",
    "    \n",
    "    # convert files to .asc\n",
    "    convert_tif_to_asc(weather_dataset_info[0], destination_folder, final_worldclim_file_names)"
   ]
  },
  {
   "cell_type": "code",
   "execution_count": null,
   "id": "2b8038f6",
   "metadata": {},
   "outputs": [],
   "source": []
  }
 ],
 "metadata": {
  "kernelspec": {
   "display_name": "Python 3 (ipykernel)",
   "language": "python",
   "name": "python3"
  },
  "language_info": {
   "codemirror_mode": {
    "name": "ipython",
    "version": 3
   },
   "file_extension": ".py",
   "mimetype": "text/x-python",
   "name": "python",
   "nbconvert_exporter": "python",
   "pygments_lexer": "ipython3",
   "version": "3.9.7"
  }
 },
 "nbformat": 4,
 "nbformat_minor": 5
}
