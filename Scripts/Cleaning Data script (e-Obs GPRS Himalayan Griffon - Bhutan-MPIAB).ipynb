{
 "cells": [
  {
   "cell_type": "code",
   "execution_count": 1,
   "id": "52faa60b",
   "metadata": {},
   "outputs": [],
   "source": [
    "import os\n",
    "import pandas as pd"
   ]
  },
  {
   "cell_type": "markdown",
   "id": "5521e31a",
   "metadata": {},
   "source": [
    "Help method for reading and cleaning data"
   ]
  },
  {
   "cell_type": "code",
   "execution_count": 2,
   "id": "609aa8b3",
   "metadata": {},
   "outputs": [],
   "source": [
    "def read_and_clean_data(filePath):\n",
    "    df = pd.read_csv(filePath, delimiter=',')\n",
    "    \n",
    "    # removing bending unnecessary columns\n",
    "    df = df.drop(['event-id', 'visible', 'timestamp', 'bar:barometric-pressure','data-decoding-software','eobs:activity','eobs:activity-samples','eobs:battery-voltage','eobs:fix-battery-voltage','eobs:horizontal-accuracy-estimate','eobs:key-bin-checksum','eobs:speed-accuracy-estimate','eobs:start-timestamp','eobs:status','eobs:temperature','eobs:type-of-fix','eobs:used-time-to-get-fix','gps:dop','gps:satellite-count','ground-speed','heading','height-above-ellipsoid','import-marked-outlier','mag:magnetic-field-raw-x','mag:magnetic-field-raw-y','mag:magnetic-field-raw-z','orientation:quaternion-raw-w','orientation:quaternion-raw-x','orientation:quaternion-raw-y','orientation:quaternion-raw-z','sensor-type','individual-taxon-canonical-name','tag-local-identifier','individual-local-identifier','study-name','utm-easting','utm-northing','utm-zone','study-timezone','study-local-timestamp'], axis=1)\n",
    "    \n",
    "    # renaming columns\n",
    "    df.rename(columns={'location-long':'longitude'}, inplace = True) \n",
    "    df.rename(columns={'location-lat':'latitude'}, inplace = True)\n",
    "    \n",
    "    # adding species columns\n",
    "    df.insert(0, 'species', 'griffon_vulture', True)\n",
    "    \n",
    "    # removing NaN values\n",
    "    df = df.dropna()\n",
    "    \n",
    "    # removing duplicates\n",
    "    df = df.drop_duplicates() \n",
    "    return df"
   ]
  },
  {
   "cell_type": "markdown",
   "id": "1adde50b",
   "metadata": {},
   "source": [
    "Help method for writing cleaned data to final dataset file"
   ]
  },
  {
   "cell_type": "code",
   "execution_count": 3,
   "id": "178085e9",
   "metadata": {},
   "outputs": [],
   "source": [
    "def to_csv(df):\n",
    "    df.to_csv('../FinalDatasets/griffon_vulture.csv', mode='a', index=False, header=False)"
   ]
  },
  {
   "cell_type": "markdown",
   "id": "b2359db8",
   "metadata": {},
   "source": [
    "Main"
   ]
  },
  {
   "cell_type": "code",
   "execution_count": 4,
   "id": "3f84424e",
   "metadata": {},
   "outputs": [],
   "source": [
    "file_path = '../MovebankDatasets/e-ObsGPRSHimalayanGriffon-Bhutan-MPIAB'\n",
    "dataset_files = os.listdir(file_path)\n",
    "\n",
    "for file in dataset_files:\n",
    "    df = read_and_clean_data(file_path + '/' + file)\n",
    "    to_csv(df)"
   ]
  },
  {
   "cell_type": "code",
   "execution_count": null,
   "id": "c3833323",
   "metadata": {},
   "outputs": [],
   "source": []
  }
 ],
 "metadata": {
  "kernelspec": {
   "display_name": "Python 3 (ipykernel)",
   "language": "python",
   "name": "python3"
  },
  "language_info": {
   "codemirror_mode": {
    "name": "ipython",
    "version": 3
   },
   "file_extension": ".py",
   "mimetype": "text/x-python",
   "name": "python",
   "nbconvert_exporter": "python",
   "pygments_lexer": "ipython3",
   "version": "3.9.7"
  }
 },
 "nbformat": 4,
 "nbformat_minor": 5
}
