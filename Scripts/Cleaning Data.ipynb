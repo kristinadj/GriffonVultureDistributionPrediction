{
 "cells": [
  {
   "cell_type": "markdown",
   "id": "5521e31a",
   "metadata": {},
   "source": [
    "Help method for reading and formating data"
   ]
  },
  {
   "cell_type": "code",
   "execution_count": 54,
   "id": "609aa8b3",
   "metadata": {},
   "outputs": [],
   "source": [
    "import pandas as pd\n",
    "\n",
    "def read_and_format(filePath, columns_to_remove):\n",
    "    df = pd.read_csv(filePath, delimiter=',', low_memory=False)\n",
    "    \n",
    "    # removing unnecessary columns\n",
    "    df = df.drop(columns_to_remove, axis=1)\n",
    "    # renaming columns\n",
    "    df.rename(columns={'location-long':'longitude'}, inplace = True) \n",
    "    df.rename(columns={'location-lat':'latitude'}, inplace = True)    \n",
    "    # adding species columns\n",
    "    df.insert(0, 'species', 'griffon_vulture', True)\n",
    "\n",
    "    return df"
   ]
  },
  {
   "cell_type": "markdown",
   "id": "29a7e678",
   "metadata": {},
   "source": [
    "Help method for removing coordinates that are near each other (removes only other coordinate)"
   ]
  },
  {
   "cell_type": "code",
   "execution_count": 55,
   "id": "e49b4cb8",
   "metadata": {},
   "outputs": [],
   "source": [
    "import numpy as np\n",
    "from math import ceil\n",
    "from scipy.spatial import distance\n",
    "from haversine import haversine, Unit\n",
    "\n",
    "def remove_near_coordinates(df, min_distance=50, count=1000):\n",
    "    print(len(df.index))\n",
    "    \n",
    "    iteration_count = ceil(len(df.index) / count)\n",
    "    idx_out = list()\n",
    "\n",
    "    for i in range(iteration_count):\n",
    "        lower_bound = i * count\n",
    "        mini_df = df.iloc[lower_bound:lower_bound + count,1:3]\n",
    "        coords = mini_df.values\n",
    "\n",
    "        distance_matrix = distance.cdist(coords, coords, lambda u, v: haversine(u, v, Unit.METERS)) # haversine(lat, lon, Unit.Meters)\n",
    "        n_proxim = np.apply_along_axis(lambda x: np.count_nonzero(x < min_distance), 0, distance_matrix)\n",
    "        idx = np.argsort(n_proxim).tolist()\n",
    "\n",
    "        for i in idx:\n",
    "            for j in range(i+1):\n",
    "                if i not in idx_out:\n",
    "                    if distance_matrix[i, j] < min_distance:\n",
    "                        if i != j:\n",
    "                            idx_out.append(j)\n",
    "\n",
    "    pop_idx = sorted(np.unique(idx_out).tolist(), reverse=True)\n",
    "    df = df.drop(df.index[pop_idx])\n",
    "\n",
    "    print(len(df.index))\n",
    "    return df"
   ]
  },
  {
   "cell_type": "code",
   "execution_count": 56,
   "id": "c78ab725",
   "metadata": {},
   "outputs": [],
   "source": [
    "def clean(df):\n",
    "    # removing NaN values\n",
    "    df = df.dropna()    \n",
    "    # removing duplicates\n",
    "    df = df.drop_duplicates()\n",
    "    # removing coordinates if distance between two is below given min_distance\n",
    "    #df = remove_near_coordinates(df)\n",
    "    return df"
   ]
  },
  {
   "cell_type": "markdown",
   "id": "1adde50b",
   "metadata": {},
   "source": [
    "Help method for writing cleaned data to final dataset file"
   ]
  },
  {
   "cell_type": "code",
   "execution_count": 57,
   "id": "178085e9",
   "metadata": {},
   "outputs": [],
   "source": [
    "def to_csv(filePath, df):\n",
    "    df.to_csv(filePath, mode='a', index=False, header=False)"
   ]
  },
  {
   "cell_type": "markdown",
   "id": "b2359db8",
   "metadata": {},
   "source": [
    "Main"
   ]
  },
  {
   "cell_type": "code",
   "execution_count": 58,
   "id": "3f84424e",
   "metadata": {},
   "outputs": [],
   "source": [
    "import os\n",
    "\n",
    "datasets_info = [\n",
    "    ('../MovebankDatasets/e-ObsGPRSHimalayanGriffon-Bhutan-MPIAB', ['event-id', 'visible', 'timestamp', 'bar:barometric-pressure','data-decoding-software','eobs:activity','eobs:activity-samples','eobs:battery-voltage','eobs:fix-battery-voltage','eobs:horizontal-accuracy-estimate','eobs:key-bin-checksum','eobs:speed-accuracy-estimate','eobs:start-timestamp','eobs:status','eobs:temperature','eobs:type-of-fix','eobs:used-time-to-get-fix','gps:dop','gps:satellite-count','ground-speed','heading','height-above-ellipsoid','import-marked-outlier','mag:magnetic-field-raw-x','mag:magnetic-field-raw-y','mag:magnetic-field-raw-z','orientation:quaternion-raw-w','orientation:quaternion-raw-x','orientation:quaternion-raw-y','orientation:quaternion-raw-z','sensor-type','individual-taxon-canonical-name','tag-local-identifier','individual-local-identifier','study-name','utm-easting','utm-northing','utm-zone','study-timezone','study-local-timestamp']),\n",
    "    ('../MovebankDatasets/Eurasian Griffon Vultures 1 Hz HUJ (Israel)',['event-id','visible','timestamp','bar:barometric-pressure','data-decoding-software','eobs:activity','eobs:activity-samples','eobs:battery-voltage','eobs:fix-battery-voltage','eobs:horizontal-accuracy-estimate','eobs:key-bin-checksum','eobs:speed-accuracy-estimate','eobs:start-timestamp','eobs:status','eobs:temperature','eobs:type-of-fix','eobs:used-time-to-get-fix','gps:dop','gps:satellite-count','ground-speed','heading','height-above-ellipsoid','height-raw','import-marked-outlier','mag:magnetic-field-raw-x','mag:magnetic-field-raw-y','mag:magnetic-field-raw-z','orientation:quaternion-raw-w','orientation:quaternion-raw-x','orientation:quaternion-raw-y','orientation:quaternion-raw-z','taxon','sensor-type','individual-taxon-canonical-name','tag-local-identifier','individual-local-identifier','study-name','utm-easting','utm-northing','utm-zone','study-timezone','study-local-timestamp']),\n",
    "    ('../MovebankDatasets/Griffon vulture [fdlmes.gr]',['event-id','visible','timestamp','sensor-type','individual-taxon-canonical-name','tag-local-identifier','individual-local-identifier','study-name','utm-easting','utm-northing','utm-zone','study-timezone','study-local-timestamp']),\n",
    "    ('../MovebankDatasets/Griffon Vulture Albstadt Salzburg (Gypsi)', ['event-id','visible','timestamp','bar:barometric-pressure','data-decoding-software','eobs:activity','eobs:activity-samples','eobs:battery-voltage','eobs:fix-battery-voltage','eobs:horizontal-accuracy-estimate','eobs:key-bin-checksum','eobs:speed-accuracy-estimate','eobs:start-timestamp','eobs:status','eobs:temperature','eobs:type-of-fix','eobs:used-time-to-get-fix','gps:dop','gps:satellite-count','ground-speed','heading','height-above-ellipsoid','import-marked-outlier','mag:magnetic-field-raw-x','mag:magnetic-field-raw-y','mag:magnetic-field-raw-z','manually-marked-outlier','orientation:quaternion-raw-w','orientation:quaternion-raw-x','orientation:quaternion-raw-y','orientation:quaternion-raw-z','sensor-type','individual-taxon-canonical-name','tag-local-identifier','individual-local-identifier','study-name','utm-easting','utm-northing','utm-zone','study-timezone','study-local-timestamp']),\n",
    "    ('../MovebankDatasets/High-altitude flights of Himalayan vultures (data from Sherub et al. 2016)', ['event-id','visible','timestamp','eobs:battery-voltage','eobs:fix-battery-voltage','eobs:horizontal-accuracy-estimate','eobs:speed-accuracy-estimate','eobs:start-timestamp','eobs:status','eobs:temperature','eobs:type-of-fix','eobs:used-time-to-get-fix','ground-speed','heading','height-above-ellipsoid','sensor-type','individual-taxon-canonical-name','tag-local-identifier','individual-local-identifier','study-name','utm-easting','utm-northing','utm-zone','study-timezone','study-local-timestamp']),\n",
    "    ('../MovebankDatasets/LifeTrack Griffon Vulture Croatia', ['event-id','visible','timestamp','bar:barometric-pressure','data-decoding-software','eobs:activity','eobs:activity-samples','eobs:battery-voltage','eobs:fix-battery-voltage','eobs:horizontal-accuracy-estimate','eobs:key-bin-checksum','eobs:speed-accuracy-estimate','eobs:start-timestamp','eobs:status','eobs:temperature','eobs:type-of-fix','eobs:used-time-to-get-fix','gps:dop','gps:satellite-count','ground-speed','heading','height-above-ellipsoid','import-marked-outlier','mag:magnetic-field-raw-x','mag:magnetic-field-raw-y','mag:magnetic-field-raw-z','orientation:quaternion-raw-w','orientation:quaternion-raw-x','orientation:quaternion-raw-y','orientation:quaternion-raw-z','sensor-type','individual-taxon-canonical-name','tag-local-identifier','individual-local-identifier','study-name','utm-easting','utm-northing','utm-zone','study-timezone','study-local-timestamp']),\n",
    "    ('../MovebankDatasets/Long-range adult movements of 3 vulture species (data from Spiegel et al. 2015)', ['event-id','visible','timestamp','ground-speed','heading','sensor-type','individual-taxon-canonical-name','tag-local-identifier','individual-local-identifier','study-name','utm-easting','utm-northing','utm-zone','study-timezone','study-local-timestamp']),\n",
    "    ('../MovebankDatasets/Raptors NABU Moessingen public', ['event-id','visible','timestamp','bar:barometric-pressure','data-decoding-software','eobs:activity','eobs:activity-samples','eobs:battery-voltage','eobs:fix-battery-voltage','eobs:horizontal-accuracy-estimate','eobs:key-bin-checksum','eobs:speed-accuracy-estimate','eobs:start-timestamp','eobs:status','eobs:temperature','eobs:type-of-fix','eobs:used-time-to-get-fix','gps:dop','gps:satellite-count','ground-speed','heading','height-above-ellipsoid','import-marked-outlier','mag:magnetic-field-raw-x','mag:magnetic-field-raw-y','mag:magnetic-field-raw-z','orientation:quaternion-raw-w','orientation:quaternion-raw-x','orientation:quaternion-raw-y','orientation:quaternion-raw-z','sensor-type','individual-taxon-canonical-name','tag-local-identifier','individual-local-identifier','study-name','utm-easting','utm-northing','utm-zone','study-timezone','study-local-timestamp']),\n",
    "    ('../MovebankDatasets/Soaring flight in Eurasian griffon vultures (HUJ) (data from Harel and Nathan, 2018)', ['event-id','visible','timestamp','ground-speed','heading','height-raw','sensor-type','individual-taxon-canonical-name','tag-local-identifier','individual-local-identifier','study-name','utm-easting','utm-northing','utm-zone','study-timezone','study-local-timestamp'])\n",
    "]\n",
    "final_dataset_file_path = '../FinalDatasets/griffon_vulture.csv'\n",
    "\n",
    "for dataset_info in datasets_info: \n",
    "    file_path = dataset_info[0]\n",
    "    dataset_files = os.listdir(file_path)\n",
    "\n",
    "    for file in dataset_files:\n",
    "        df = read_and_format(file_path + '/' + file, dataset_info[1])\n",
    "        df = clean(df)\n",
    "        \n",
    "        to_csv(final_dataset_file_path, df)"
   ]
  },
  {
   "cell_type": "code",
   "execution_count": 62,
   "id": "c3833323",
   "metadata": {},
   "outputs": [
    {
     "name": "stdout",
     "output_type": "stream",
     "text": [
      "2251416\n",
      "2251416\n"
     ]
    }
   ],
   "source": [
    "# clean final dataset\n",
    "df = pd.read_csv(final_dataset_file_path, delimiter=',')\n",
    "print(len(df.index))\n",
    "df = df.drop_duplicates()\n",
    "print(len(df.index))\n",
    "\n",
    "os.remove(final_dataset_file_path)\n",
    "to_csv(final_dataset_file_path, df)"
   ]
  },
  {
   "cell_type": "code",
   "execution_count": null,
   "id": "5f6a3805",
   "metadata": {},
   "outputs": [],
   "source": []
  }
 ],
 "metadata": {
  "kernelspec": {
   "display_name": "Python 3 (ipykernel)",
   "language": "python",
   "name": "python3"
  },
  "language_info": {
   "codemirror_mode": {
    "name": "ipython",
    "version": 3
   },
   "file_extension": ".py",
   "mimetype": "text/x-python",
   "name": "python",
   "nbconvert_exporter": "python",
   "pygments_lexer": "ipython3",
   "version": "3.9.7"
  }
 },
 "nbformat": 4,
 "nbformat_minor": 5
}
